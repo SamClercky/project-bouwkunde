{
 "cells": [
  {
   "cell_type": "code",
   "execution_count": 1,
   "id": "9b136be6-dcea-45bd-bf64-bce7be7b6bda",
   "metadata": {},
   "outputs": [],
   "source": [
    "# Load extensions\n",
    "%load_ext autoreload\n",
    "%autoreload 2\n",
    "%matplotlib inline"
   ]
  },
  {
   "cell_type": "code",
   "execution_count": 2,
   "id": "54c7c1c9-0709-45c4-89a3-b52567b2e13c",
   "metadata": {},
   "outputs": [],
   "source": [
    "# Importeren van bibliotheken\n",
    "import math\n",
    "import numpy as np\n",
    "import matplotlib.pyplot as plt\n",
    "\n",
    "plt.style.use(\"classic\")"
   ]
  },
  {
   "cell_type": "code",
   "execution_count": 3,
   "id": "887ff39c-18ce-49ad-96be-b8d119378d70",
   "metadata": {},
   "outputs": [],
   "source": [
    "h = 0.7\n",
    "N = np.linspace(2/7, 6*2/7, num=6)\n",
    "da1 = 1\n",
    "db1 = 0.5\n",
    "da2 = 1\n",
    "db2 = 0.5"
   ]
  },
  {
   "cell_type": "code",
   "execution_count": null,
   "id": "6bbb8b0d-c310-41d2-ae7b-c91be30011ab",
   "metadata": {},
   "outputs": [],
   "source": []
  }
 ],
 "metadata": {
  "kernelspec": {
   "display_name": "Python 3",
   "language": "python",
   "name": "python3"
  },
  "language_info": {
   "codemirror_mode": {
    "name": "ipython",
    "version": 3
   },
   "file_extension": ".py",
   "mimetype": "text/x-python",
   "name": "python",
   "nbconvert_exporter": "python",
   "pygments_lexer": "ipython3",
   "version": "3.9.2"
  }
 },
 "nbformat": 4,
 "nbformat_minor": 5
}
