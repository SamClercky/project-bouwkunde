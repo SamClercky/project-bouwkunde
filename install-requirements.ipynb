{
 "cells": [
  {
   "cell_type": "markdown",
   "metadata": {},
   "source": [
    "# Install notebook voor alle benodigde libraries\n",
    "\n",
    "Run deze notebook indien er problemen zijn bij het uitvoeren van\n",
    "andere notebooks.\n",
    "\n",
    "Activeer de extensie `@jupyter-widgets/jupyterlab-manager` om interactieve grafieken\n",
    "te hebben.\n",
    "\n",
    "Indien er errors opkomen bij voorgaande extensie, installeer [node.js](https://nodejs.org/en/) (Kan ook worden geinstalleerd met `conda`)"
   ]
  },
  {
   "cell_type": "code",
   "execution_count": 1,
   "metadata": {},
   "outputs": [],
   "source": [
    "import sys\n",
    "!{sys.executable} -m pip -q install numpy sympy matplotlib pandas ipympl"
   ]
  }
 ],
 "metadata": {
  "kernelspec": {
   "display_name": "Python 3",
   "language": "python",
   "name": "python3"
  },
  "language_info": {
   "codemirror_mode": {
    "name": "ipython",
    "version": 3
   },
   "file_extension": ".py",
   "mimetype": "text/x-python",
   "name": "python",
   "nbconvert_exporter": "python",
   "pygments_lexer": "ipython3",
   "version": "3.9.2"
  }
 },
 "nbformat": 4,
 "nbformat_minor": 4
}
