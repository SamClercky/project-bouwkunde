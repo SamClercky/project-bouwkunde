{
 "cells": [
  {
   "cell_type": "markdown",
   "metadata": {},
   "source": [
    "# Install notebook voor alle benodigde libraries\n",
    "\n",
    "Run deze notebook indien er problemen zijn bij het uitvoeren van\n",
    "andere notebooks."
   ]
  },
  {
   "cell_type": "code",
   "execution_count": 1,
   "metadata": {},
   "outputs": [
    {
     "name": "stdout",
     "output_type": "stream",
     "text": [
      "Defaulting to user installation because normal site-packages is not writeable\n",
      "Requirement already satisfied: numpy in /usr/lib/python3.9/site-packages (1.20.1)\n",
      "Requirement already satisfied: sympy in /home/samclercky/.local/lib/python3.9/site-packages (1.7.1)\n",
      "Requirement already satisfied: matplotlib in /usr/lib/python3.9/site-packages (3.3.4)\n",
      "Requirement already satisfied: pandas in /home/samclercky/.local/lib/python3.9/site-packages (1.2.0)\n",
      "Requirement already satisfied: cycler>=0.10 in /usr/lib/python3.9/site-packages (from matplotlib) (0.10.0)\n",
      "Requirement already satisfied: kiwisolver>=1.0.1 in /usr/lib/python3.9/site-packages (from matplotlib) (1.3.1)\n",
      "Requirement already satisfied: numpy in /usr/lib/python3.9/site-packages (1.20.1)\n",
      "Requirement already satisfied: pillow>=6.2.0 in /usr/lib/python3.9/site-packages (from matplotlib) (8.1.0)\n",
      "Requirement already satisfied: pyparsing!=2.0.4,!=2.1.2,!=2.1.6,>=2.0.3 in /usr/lib/python3.9/site-packages (from matplotlib) (2.4.7)\n",
      "Requirement already satisfied: python-dateutil>=2.1 in /usr/lib/python3.9/site-packages (from matplotlib) (2.8.1)\n",
      "Requirement already satisfied: python-dateutil>=2.1 in /usr/lib/python3.9/site-packages (from matplotlib) (2.8.1)\n",
      "Requirement already satisfied: numpy in /usr/lib/python3.9/site-packages (1.20.1)\n",
      "Requirement already satisfied: pytz>=2017.3 in /home/samclercky/.local/lib/python3.9/site-packages (from pandas) (2020.5)\n",
      "Requirement already satisfied: mpmath>=0.19 in /home/samclercky/.local/lib/python3.9/site-packages (from sympy) (1.1.0)\n",
      "Requirement already satisfied: six in /usr/lib/python3.9/site-packages (from cycler>=0.10->matplotlib) (1.15.0)\n",
      "Requirement already satisfied: six in /usr/lib/python3.9/site-packages (from cycler>=0.10->matplotlib) (1.15.0)\n"
     ]
    }
   ],
   "source": [
    "import sys\n",
    "!{sys.executable} -m pip install numpy sympy matplotlib pandas"
   ]
  }
 ],
 "metadata": {
  "kernelspec": {
   "display_name": "Python 3",
   "language": "python",
   "name": "python3"
  },
  "language_info": {
   "codemirror_mode": {
    "name": "ipython",
    "version": 3
   },
   "file_extension": ".py",
   "mimetype": "text/x-python",
   "name": "python",
   "nbconvert_exporter": "python",
   "pygments_lexer": "ipython3",
   "version": "3.9.2"
  }
 },
 "nbformat": 4,
 "nbformat_minor": 4
}
