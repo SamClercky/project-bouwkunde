{
 "cells": [
  {
   "cell_type": "code",
   "execution_count": 1,
   "metadata": {},
   "outputs": [],
   "source": [
    "# Load extensions\n",
    "%load_ext autoreload\n",
    "%autoreload 2"
   ]
  },
  {
   "cell_type": "code",
   "execution_count": 2,
   "metadata": {},
   "outputs": [],
   "source": [
    "# Importeren van bibliotheken\n",
    "import math\n",
    "import numpy as np\n",
    "from sympy import *\n",
    "import matplotlib.pyplot as plt\n",
    "\n",
    "from berekeningen_andreas import Brug"
   ]
  },
  {
   "cell_type": "markdown",
   "metadata": {},
   "source": [
    "Berekeningen gaan uit van volgende situatie:\n",
    "![Berekeningen](figures/berekeningen_andreas.svg)"
   ]
  },
  {
   "cell_type": "code",
   "execution_count": 3,
   "metadata": {},
   "outputs": [
    {
     "data": {
      "text/plain": [
       "{'h1': 1,\n",
       " 'h2': 1,\n",
       " 'd1': 0.1,\n",
       " 'd2': 0.1,\n",
       " 'N': 3,\n",
       " 'cosa': 0.8320502943378437,\n",
       " 'sina': 0.554700196225229,\n",
       " 'cosb': 0.8320502943378437,\n",
       " 'sinb': 0.554700196225229}"
      ]
     },
     "execution_count": 3,
     "metadata": {},
     "output_type": "execute_result"
    }
   ],
   "source": [
    "brug = Brug(1, 1, 0.1, 0.1, 3)\n",
    "brug.__dict__"
   ]
  },
  {
   "cell_type": "code",
   "execution_count": 4,
   "metadata": {},
   "outputs": [
    {
     "data": {
      "text/plain": [
       "([[1, 1, 0, 0, 0, 0, 0, 0],\n",
       "  [0, 0, 1, 1, 0, 0, 0, 0],\n",
       "  [0, 0, 0, 0, 1, 1, 0, 0],\n",
       "  [0, 0, 0, 0, 0, 0, 1, 1],\n",
       "  [0, 0.5, 0, 0, 0, 0, 0, 0],\n",
       "  [0, 0, 0, 0.5, 0, 0, 0, 0],\n",
       "  [0, 0, 0, 0, 0, 0.5, 0, 0],\n",
       "  [0, 0, 0, 0, 0, 0, 0, 0.5]],\n",
       " [400.0, 800.0, 400.0, 400.0, 400.0, 466.66666666666663, 400.0, 400.0])"
      ]
     },
     "execution_count": 4,
     "metadata": {},
     "output_type": "execute_result"
    }
   ],
   "source": [
    "A, B = brug.calc_reactie_krachten()\n",
    "A, B"
   ]
  },
  {
   "cell_type": "code",
   "execution_count": 6,
   "metadata": {},
   "outputs": [
    {
     "data": {
      "text/plain": [
       "({'Va': -400.0,\n",
       "  'F1': 666.6666666666667,\n",
       "  'F2': 533.3333333333333,\n",
       "  'F3': 400.0,\n",
       "  'Vb': 800.0},\n",
       " array([-400.        ,  800.        , -133.33333333,  933.33333333,\n",
       "        -400.        ,  800.        , -400.        ,  800.        ]))"
      ]
     },
     "execution_count": 6,
     "metadata": {},
     "output_type": "execute_result"
    }
   ],
   "source": [
    "s = np.linalg.solve(A,B)\n",
    "{\n",
    "    'Va': s[0],\n",
    "    'F1': s[1] + s[2],\n",
    "    'F2': s[3] + s[4],\n",
    "    'F3': s[5] + s[6],\n",
    "    'Vb': s[7],\n",
    "}, s"
   ]
  }
 ],
 "metadata": {
  "kernelspec": {
   "display_name": "Python 3",
   "language": "python",
   "name": "python3"
  },
  "language_info": {
   "codemirror_mode": {
    "name": "ipython",
    "version": 3
   },
   "file_extension": ".py",
   "mimetype": "text/x-python",
   "name": "python",
   "nbconvert_exporter": "python",
   "pygments_lexer": "ipython3",
   "version": "3.9.2"
  }
 },
 "nbformat": 4,
 "nbformat_minor": 4
}
