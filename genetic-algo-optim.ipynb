{
 "cells": [
  {
   "cell_type": "code",
   "execution_count": 1,
   "metadata": {},
   "outputs": [],
   "source": [
    "# Load extensions\n",
    "%load_ext autoreload\n",
    "%autoreload 2\n",
    "%matplotlib widget"
   ]
  },
  {
   "cell_type": "code",
   "execution_count": 2,
   "metadata": {},
   "outputs": [],
   "source": [
    "# Importeren van bibliotheken\n",
    "import math\n",
    "import numpy as np\n",
    "import matplotlib.pyplot as plt\n",
    "\n",
    "from berekeningen_andreas import Brug"
   ]
  },
  {
   "cell_type": "markdown",
   "metadata": {},
   "source": [
    "# Zoeken van meest ideale parameters voor brug\n",
    "## Exploratie van formules\n",
    "### Probleemstelling\n",
    "Berekeningen gaan uit van volgende situatie:\n",
    "![Berekeningen](figures/berekeningen_andreas.svg)"
   ]
  },
  {
   "cell_type": "code",
   "execution_count": 3,
   "metadata": {},
   "outputs": [
    {
     "data": {
      "text/plain": [
       "{'h1': 2,\n",
       " 'h2': 0.2,\n",
       " 'd1': 0.1,\n",
       " 'd2': 0.1,\n",
       " 'N': 3,\n",
       " 'cosa': 0.6,\n",
       " 'sina': 0.7999999999999999,\n",
       " 'cosb': 0.9912279006826348,\n",
       " 'sinb': 0.13216372009101796}"
      ]
     },
     "execution_count": 3,
     "metadata": {},
     "output_type": "execute_result"
    }
   ],
   "source": [
    "brug = Brug(2, 0.2, 0.1, 0.1, 3)\n",
    "brug.__dict__"
   ]
  },
  {
   "cell_type": "code",
   "execution_count": 4,
   "metadata": {},
   "outputs": [
    {
     "data": {
      "text/plain": [
       "(200.0, 200.0, [666.6666666666667, 533.3333333333333, 400.0])"
      ]
     },
     "execution_count": 4,
     "metadata": {},
     "output_type": "execute_result"
    }
   ],
   "source": [
    "Va, Vb, Fi = brug.calc_reactie_krachten()\n",
    "Va, Vb, Fi"
   ]
  },
  {
   "cell_type": "code",
   "execution_count": 5,
   "metadata": {},
   "outputs": [
    {
     "data": {
      "text/plain": [
       "((925.9259259259262, 740.7407407407406, 555.5555555555557),\n",
       " (-560.4720722378354, -448.3776577902682, -336.28324334270116))"
      ]
     },
     "execution_count": 5,
     "metadata": {},
     "output_type": "execute_result"
    }
   ],
   "source": [
    "FiA, FiB = brug.calc_touw_kracht()\n",
    "FiA, FiB"
   ]
  },
  {
   "cell_type": "code",
   "execution_count": 6,
   "metadata": {},
   "outputs": [
    {
     "data": {
      "text/plain": [
       "(-7407.407407407407,\n",
       " -1333.3333333333333,\n",
       " (555.5555555555557, 2996.1108764676565, 4456.926915584795),\n",
       " 740.7407407407405,\n",
       " 1333.3333333333333,\n",
       " (-555.5555555555557, -534.1557445131835, -555.5555555555554))"
      ]
     },
     "execution_count": 6,
     "metadata": {},
     "output_type": "execute_result"
    }
   ],
   "source": [
    "brug.calc_kant()"
   ]
  },
  {
   "cell_type": "markdown",
   "metadata": {},
   "source": [
    "### Wegdek"
   ]
  },
  {
   "cell_type": "code",
   "execution_count": 7,
   "metadata": {},
   "outputs": [
    {
     "data": {
      "application/vnd.jupyter.widget-view+json": {
       "model_id": "5a76856a349544a3a4e99df7368c04b8",
       "version_major": 2,
       "version_minor": 0
      },
      "text/plain": [
       "Canvas(toolbar=Toolbar(toolitems=[('Home', 'Reset original view', 'home', 'home'), ('Back', 'Back to previous …"
      ]
     },
     "metadata": {},
     "output_type": "display_data"
    },
    {
     "data": {
      "text/plain": [
       "[<matplotlib.lines.Line2D at 0x7fd45bd6a1f0>]"
      ]
     },
     "execution_count": 7,
     "metadata": {},
     "output_type": "execute_result"
    }
   ],
   "source": [
    "x = np.arange(0, 2, 0.001)\n",
    "N, D, M = list(zip(*[brug.calc_intern_wegdek(xi) for xi in x]))\n",
    "\n",
    "plt.figure()\n",
    "ax1 = plt.subplot(3,1,1)\n",
    "ax1.plot(x, N)\n",
    "ax2 = plt.subplot(3,1,2, sharex=ax1)\n",
    "ax2.plot(x, D)\n",
    "ax3 = plt.subplot(3,1,3, sharex=ax1)\n",
    "ax3.plot(x, M)"
   ]
  },
  {
   "cell_type": "markdown",
   "metadata": {},
   "source": [
    "### Piloon 1"
   ]
  },
  {
   "cell_type": "code",
   "execution_count": 8,
   "metadata": {},
   "outputs": [
    {
     "data": {
      "application/vnd.jupyter.widget-view+json": {
       "model_id": "36fda7cbdc224dc29e5f0a6ceee4a92c",
       "version_major": 2,
       "version_minor": 0
      },
      "text/plain": [
       "Canvas(toolbar=Toolbar(toolitems=[('Home', 'Reset original view', 'home', 'home'), ('Back', 'Back to previous …"
      ]
     },
     "metadata": {},
     "output_type": "display_data"
    },
    {
     "data": {
      "text/plain": [
       "Text(0, 0.5, 'M')"
      ]
     },
     "execution_count": 8,
     "metadata": {},
     "output_type": "execute_result"
    }
   ],
   "source": [
    "x = np.arange(0, brug.h1, 0.001)\n",
    "N, D, M = list(zip(*[brug.calc_intern_balk(xi, True) for xi in x]))\n",
    "\n",
    "plt.figure()\n",
    "ax1 = plt.subplot(3,1,1)\n",
    "ax1.plot(x, N)\n",
    "ax1.set_ylabel(\"N\")\n",
    "ax2 = plt.subplot(3,1,2)\n",
    "ax2.plot(x, D)\n",
    "ax2.set_ylabel(\"D\")\n",
    "ax3 = plt.subplot(3,1,3)\n",
    "ax3.plot(x, M)\n",
    "ax3.set_ylabel(\"M\")"
   ]
  },
  {
   "cell_type": "markdown",
   "metadata": {},
   "source": [
    "### Piloon 2"
   ]
  },
  {
   "cell_type": "code",
   "execution_count": 9,
   "metadata": {},
   "outputs": [
    {
     "data": {
      "application/vnd.jupyter.widget-view+json": {
       "model_id": "1a227eea158f4ffcac95630f8979a3b4",
       "version_major": 2,
       "version_minor": 0
      },
      "text/plain": [
       "Canvas(toolbar=Toolbar(toolitems=[('Home', 'Reset original view', 'home', 'home'), ('Back', 'Back to previous …"
      ]
     },
     "metadata": {},
     "output_type": "display_data"
    },
    {
     "data": {
      "text/plain": [
       "Text(0, 0.5, 'M')"
      ]
     },
     "execution_count": 9,
     "metadata": {},
     "output_type": "execute_result"
    }
   ],
   "source": [
    "x = np.arange(0, brug.h2, 0.001)\n",
    "N, D, M = list(zip(*[brug.calc_intern_balk(xi, False) for xi in x]))\n",
    "\n",
    "plt.figure()\n",
    "ax1 = plt.subplot(3,1,1)\n",
    "ax1.plot(x, N)\n",
    "ax1.set_ylabel(\"N\")\n",
    "ax2 = plt.subplot(3,1,2)\n",
    "ax2.plot(x, D)\n",
    "ax2.set_ylabel(\"D\")\n",
    "ax3 = plt.subplot(3,1,3)\n",
    "ax3.plot(x, M)\n",
    "ax3.set_ylabel(\"M\")"
   ]
  },
  {
   "cell_type": "markdown",
   "metadata": {},
   "source": [
    "## Optimalisatie"
   ]
  },
  {
   "cell_type": "code",
   "execution_count": 10,
   "metadata": {},
   "outputs": [],
   "source": [
    "# Maxwaarden\n",
    "h1_max = 2 # 2m\n",
    "h2_max = 2 # 2m\n",
    "h1_min = 0.06 # 6cm\n",
    "h2_min = 0.06 # 6cm\n",
    "d1_max = 2 # 2m\n",
    "d2_max = 2 # 2m\n",
    "d1_min = 0.1 # 10cm\n",
    "d2_min = 0.1 # 10cm\n",
    "N_max = 10\n",
    "N_min = 1"
   ]
  },
  {
   "cell_type": "code",
   "execution_count": 11,
   "metadata": {},
   "outputs": [],
   "source": [
    "def clamp(x, mini, maxi):\n",
    "    return min(maxi, max(mini, x))\n",
    "\n",
    "def genRandomBrug():\n",
    "    from random import random, randint\n",
    "    return Brug(\n",
    "        h1_min + random()*(h1_max - h1_min),\n",
    "        h2_min + random()*(h2_max - h2_min),\n",
    "        d1_min + random()*(d1_max - d1_min),\n",
    "        d2_min + random()*(d2_max - d2_min),\n",
    "        randint(N_min, N_max),\n",
    "    )\n",
    "\n",
    "def genFromParents(p1, p2):\n",
    "    import random\n",
    "    h1 = (p1.h1 if random.choice([True, False]) else p2.h1) + random.gauss(0,1)\n",
    "    h2 = (p1.h2 if random.choice([True, False]) else p2.h2) + random.gauss(0,1)\n",
    "    d1 = (p1.d1 if random.choice([True, False]) else p2.d1) + random.gauss(0,1)\n",
    "    d2 = (p1.d2 if random.choice([True, False]) else p2.d2) + random.gauss(0,1)\n",
    "    N = (p1.N if random.choice([True, False]) else p2.N) + int(random.gauss(0,N_max/2))\n",
    "    \n",
    "    return Brug(\n",
    "        clamp(h1, h1_min, h1_max),\n",
    "        clamp(h2, h2_min, h2_max),\n",
    "        clamp(d1, d1_min, d1_max),\n",
    "        clamp(d2, d2_min, d2_max),\n",
    "        clamp(N, N_min, N_max),\n",
    "    )"
   ]
  },
  {
   "cell_type": "code",
   "execution_count": 12,
   "metadata": {},
   "outputs": [],
   "source": [
    "def kill_population(population):\n",
    "    scores = [[brug.calc_fitness(), brug] for brug in population]\n",
    "    scores = sorted(scores, key=lambda score: score[0])\n",
    "    # delete half the population #Thanos-feeling\n",
    "    scores = scores[:len(scores)//2]\n",
    "    return list(zip(*scores))[1]\n",
    "\n",
    "def regen_population(population):\n",
    "    new_p = [genFromParents(population[i], population[i+1]) for i in range(0, len(population), 2)]\n",
    "    return [*population,\n",
    "            *new_p,\n",
    "            *[genRandomBrug() for _ in range(len(population)//2)]]"
   ]
  },
  {
   "cell_type": "code",
   "execution_count": 13,
   "metadata": {},
   "outputs": [],
   "source": [
    "population = [genRandomBrug() for i in range(100)] # Populatie van 100"
   ]
  },
  {
   "cell_type": "code",
   "execution_count": 14,
   "metadata": {},
   "outputs": [
    {
     "name": "stdout",
     "output_type": "stream",
     "text": [
      "...................................................................................................."
     ]
    }
   ],
   "source": [
    "for i in range(100): # 1000 generations\n",
    "    print('.', end=\"\")\n",
    "    population = kill_population(population)\n",
    "    population = regen_population(population)"
   ]
  },
  {
   "cell_type": "code",
   "execution_count": 15,
   "metadata": {},
   "outputs": [],
   "source": [
    "def find_best(population):\n",
    "    scores = [[brug.calc_fitness(), brug] for brug in population]\n",
    "    scores = sorted(scores, key=lambda score: score[0])\n",
    "    return scores[0]\n",
    "\n",
    "def print_brug(brug):\n",
    "    x = np.arange(0, max([brug.h1, brug.h2, 2]), 0.001)\n",
    "    N1, _, _ = list(zip(*[brug.calc_intern_balk(xi, True) for xi in x]))\n",
    "    N2, _, _ = list(zip(*[brug.calc_intern_balk(xi, False) for xi in x]))\n",
    "    _, D, _ = list(zip(*[brug.calc_intern_wegdek(xi) for xi in x]))\n",
    "    \n",
    "    fig = plt.figure()\n",
    "    ax1 = plt.subplot(3, 1, 1)\n",
    "    ax1.plot(x, N1)\n",
    "    ax1.set_ylabel(\"N1\")\n",
    "    ax2 = plt.subplot(3, 1, 2)\n",
    "    ax2.plot(x, N2)\n",
    "    ax2.set_ylabel(\"N2\")\n",
    "    ax3 = plt.subplot(3, 1, 3)\n",
    "    ax3.plot(x, D)\n",
    "    ax3.set_ylabel(\"D\")\n",
    "    \n",
    "    print(\"======= Info Brug ========\")\n",
    "    print(f\"h1:\\t{brug.h1}\")\n",
    "    print(f\"h2:\\t{brug.h2}\")\n",
    "    print(f\"d1:\\t{brug.d1}\")\n",
    "    print(f\"d2:\\t{brug.d2}\")\n",
    "    print(f\"N:\\t{brug.N}\")\n",
    "    \n",
    "    print(\"Krachten in touwen A\")\n",
    "    for F in brug.FiA:\n",
    "        print(f\"\\t{F}\")\n",
    "    print(\"Krachten in touwen B\")\n",
    "    for F in brug.FiB:\n",
    "        print(f\"\\t{F}\")\n",
    "    print(\"Krachten in touwen C\")\n",
    "    for F in brug.FiC:\n",
    "        print(f\"\\t{F}\")\n",
    "    print(\"Krachten in touwen D\")\n",
    "    for F in brug.FiD:\n",
    "        print(f\"\\t{F}\")\n",
    "    print(\"Maximale kracht trek/druk:\")\n",
    "    print(f\"\\tN1: {np.max(np.abs(N1))}\")\n",
    "    print(f\"\\tN2: {np.max(np.abs(N2))}\")\n",
    "    print(f\"\\tD: {np.max(np.abs(D))}\")\n",
    "    \n",
    "    return fig"
   ]
  },
  {
   "cell_type": "code",
   "execution_count": 16,
   "metadata": {},
   "outputs": [],
   "source": [
    "best = find_best(population)"
   ]
  },
  {
   "cell_type": "code",
   "execution_count": 17,
   "metadata": {},
   "outputs": [
    {
     "data": {
      "application/vnd.jupyter.widget-view+json": {
       "model_id": "137a8ef677594ba691dcf7e481e28e76",
       "version_major": 2,
       "version_minor": 0
      },
      "text/plain": [
       "Canvas(toolbar=Toolbar(toolitems=[('Home', 'Reset original view', 'home', 'home'), ('Back', 'Back to previous …"
      ]
     },
     "metadata": {},
     "output_type": "display_data"
    },
    {
     "name": "stdout",
     "output_type": "stream",
     "text": [
      "======= Info Brug ========\n",
      "h1:\t2\n",
      "h2:\t0.06\n",
      "d1:\t2\n",
      "d2:\t0.1\n",
      "N:\t2\n",
      "Krachten in touwen A\n",
      "\t660.8112303255878\n",
      "\t660.8112303255878\n",
      "Krachten in touwen B\n",
      "\t-366.92306545345394\n",
      "\t-366.92306545345394\n",
      "Krachten in touwen C\n",
      "\t366.55211912943855\n",
      "\t409.8177278350128\n",
      "Krachten in touwen D\n",
      "\t-366.5521191294386\n",
      "\t-382.69164752020333\n",
      "Maximale kracht trek/druk:\n",
      "\tN1: 1549.5990836197016\n",
      "\tN2: 266.6666666666667\n",
      "\tD: 666.4000000000001\n",
      "Score brug: 4019.610538373424\n"
     ]
    }
   ],
   "source": [
    "print_brug(best[1])\n",
    "print(f\"Score brug: {best[0]}\")"
   ]
  },
  {
   "cell_type": "markdown",
   "metadata": {},
   "source": [
    "### Enkele berekende bruggen\n",
    "```\n",
    "======= Info Brug ========\n",
    "h1:\t0.06\n",
    "h2:\t1.0652839017460745\n",
    "d1:\t0.1\n",
    "d2:\t2\n",
    "N:\t2\n",
    "Krachten in touwen A\n",
    "\t-708.0892728345934\n",
    "\t-708.0892728345934\n",
    "Krachten in touwen B\n",
    "\t905.4218833682901\n",
    "\t905.4218833682901\n",
    "Krachten in touwen C\n",
    "\t-707.3734194648738\n",
    "\t-738.5195315469434\n",
    "Krachten in touwen D\n",
    "\t707.3734194648738\n",
    "\t732.0296004492964\n",
    "Maximale kracht trek/druk:\n",
    "\tN1: 266.6666666666666\n",
    "\tN2: 1585.3853201549225\n",
    "\tD: 666.4000000000001\n",
    "Score brug: 3856.0163142124156\n",
    "```\n",
    "```\n",
    "======= Info Brug ========\n",
    "h1:\t1.126803803965232\n",
    "h2:\t0.06\n",
    "d1:\t2\n",
    "d2:\t0.1\n",
    "N:\t2\n",
    "Krachten in touwen A\n",
    "\t872.737237017732\n",
    "\t872.737237017732\n",
    "Krachten in touwen B\n",
    "\t-667.255538772807\n",
    "\t-667.255538772807\n",
    "Krachten in touwen C\n",
    "\t666.5809668731615\n",
    "\t692.5245096390946\n",
    "Krachten in touwen D\n",
    "\t-666.5809668731615\n",
    "\t-695.9309607161756\n",
    "Score brug: 3875.5966914564374\n",
    "```\n",
    "```\n",
    "======= Info Brug ========\n",
    "h1:\t0.06\n",
    "h2:\t1.2516051534550352\n",
    "d1:\t0.1\n",
    "d2:\t2\n",
    "N:\t2\n",
    "Krachten in touwen A\n",
    "\t-597.3713229720112\n",
    "\t-597.3713229720112\n",
    "Krachten in touwen B\n",
    "\t818.4997111963966\n",
    "\t818.4997111963966\n",
    "Krachten in touwen C\n",
    "\t-596.7674015585268\n",
    "\t-623.0434586797123\n",
    "Krachten in touwen D\n",
    "\t596.7674015585268\n",
    "\t625.2992554442243\n",
    "Maximale kracht trek/druk:\n",
    "\tN1: 266.6666666666666\n",
    "\tN2: 1573.7716882747561\n",
    "\tD: 666.4000000000001\n",
    "Score brug: 3909.1072028074623\n",
    "```\n",
    "```\n",
    "======= Info Brug ========\n",
    "h1:\t1.572067987257989\n",
    "h2:\t0.06\n",
    "d1:\t2\n",
    "d2:\t0.1\n",
    "N:\t2\n",
    "Krachten in touwen A\n",
    "\t727.0758927725531\n",
    "\t727.0758927725531\n",
    "Krachten in touwen B\n",
    "\t-470.76636300630054\n",
    "\t-470.76636300630054\n",
    "Krachten in touwen C\n",
    "\t470.2904347579321\n",
    "\t505.30783775277274\n",
    "Krachten in touwen D\n",
    "\t-470.290434757932\n",
    "\t-490.997628708161\n",
    "Score brug: 3969.8161468717476\n",
    "```\n",
    "```\n",
    "======= Info Brug ========\n",
    "h1:\t0.8867440380990106\n",
    "h2:\t0.06\n",
    "d1:\t2\n",
    "d2:\t0.1\n",
    "N:\t2\n",
    "Krachten in touwen A\n",
    "\t1032.9862077900755\n",
    "\t1032.9862077900755\n",
    "Krachten in touwen B\n",
    "\t-861.0049957136215\n",
    "\t-861.0049957136215\n",
    "Krachten in touwen C\n",
    "\t860.1345499221471\n",
    "\t881.0165881426548\n",
    "Krachten in touwen D\n",
    "\t-860.1345499221471\n",
    "\t-898.0068340091038\n",
    "Maximale kracht trek/druk:\n",
    "\tN1: 1601.4252388529362\n",
    "\tN2: 266.6666666666667\n",
    "\tD: 666.4000000000001\n",
    "Score brug: 3980.4220933118136\n",
    "```\n",
    "```\n",
    "======= Info Brug ========\n",
    "h1:\t2\n",
    "h2:\t0.06\n",
    "d1:\t2\n",
    "d2:\t0.1\n",
    "N:\t2\n",
    "Krachten in touwen A\n",
    "\t660.8112303255878\n",
    "\t660.8112303255878\n",
    "Krachten in touwen B\n",
    "\t-366.92306545345394\n",
    "\t-366.92306545345394\n",
    "Krachten in touwen C\n",
    "\t366.55211912943855\n",
    "\t409.8177278350128\n",
    "Krachten in touwen D\n",
    "\t-366.5521191294386\n",
    "\t-382.69164752020333\n",
    "Maximale kracht trek/druk:\n",
    "\tN1: 1549.5990836197016\n",
    "\tN2: 266.6666666666667\n",
    "\tD: 666.4000000000001\n",
    "Score brug: 4019.610538373424\n",
    "```"
   ]
  }
 ],
 "metadata": {
  "kernelspec": {
   "display_name": "Python 3",
   "language": "python",
   "name": "python3"
  },
  "language_info": {
   "codemirror_mode": {
    "name": "ipython",
    "version": 3
   },
   "file_extension": ".py",
   "mimetype": "text/x-python",
   "name": "python",
   "nbconvert_exporter": "python",
   "pygments_lexer": "ipython3",
   "version": "3.9.2"
  },
  "toc-autonumbering": true,
  "toc-showcode": false,
  "toc-showmarkdowntxt": true
 },
 "nbformat": 4,
 "nbformat_minor": 4
}
