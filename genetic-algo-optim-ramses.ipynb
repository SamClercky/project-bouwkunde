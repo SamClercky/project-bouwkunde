{
 "cells": [
  {
   "cell_type": "code",
   "execution_count": 1,
   "metadata": {},
   "outputs": [],
   "source": [
    "# Load extensions\n",
    "%load_ext autoreload\n",
    "%autoreload 2\n",
    "%matplotlib inline"
   ]
  },
  {
   "cell_type": "code",
   "execution_count": 2,
   "metadata": {},
   "outputs": [],
   "source": [
    "# Importeren van bibliotheken\n",
    "import math\n",
    "import numpy as np\n",
    "import matplotlib.pyplot as plt\n",
    "\n",
    "from berekeningen_ramses import Brug"
   ]
  },
  {
   "cell_type": "markdown",
   "metadata": {},
   "source": [
    "# Zoeken van meest ideale parameters voor brug\n",
    "## Exploratie van formules\n",
    "### Probleemstelling\n",
    "Berekeningen gaan uit van volgende situatie:\n",
    "![Berekeningen](figures/berekeningen_andreas2.0.svg)"
   ]
  },
  {
   "cell_type": "code",
   "execution_count": 3,
   "metadata": {},
   "outputs": [
    {
     "data": {
      "text/plain": [
       "{'h1': 3,\n",
       " 'h2': 0.3,\n",
       " 'd1a': 2,\n",
       " 'd2a': 2,\n",
       " 'd1b': 1,\n",
       " 'd2b': 1,\n",
       " 'N': 3,\n",
       " 'cosa': 0.8320502943378437,\n",
       " 'sina': 0.5547001962252291,\n",
       " 'cosb': 0.997785157856609,\n",
       " 'sinb': 0.06651901052377393}"
      ]
     },
     "execution_count": 3,
     "metadata": {},
     "output_type": "execute_result"
    }
   ],
   "source": [
    "brug = Brug(3, 0.3, 2, 2, 1, 1, 3)\n",
    "brug.__dict__"
   ]
  },
  {
   "cell_type": "code",
   "execution_count": 4,
   "metadata": {},
   "outputs": [
    {
     "data": {
      "text/plain": [
       "[102.825, 338.98333333333335, 272.31666666666666, 205.65, 102.825]"
      ]
     },
     "execution_count": 4,
     "metadata": {},
     "output_type": "execute_result"
    }
   ],
   "source": [
    "brug.calc_reactie_krachten()"
   ]
  },
  {
   "cell_type": "code",
   "execution_count": 5,
   "metadata": {},
   "outputs": [
    {
     "data": {
      "text/plain": [
       "([206.83753366879048, 166.15951927894034, 125.48150488909022],\n",
       " [248.03719509122362, 199.2565873737894, 150.47597965635518])"
      ]
     },
     "execution_count": 5,
     "metadata": {},
     "output_type": "execute_result"
    }
   ],
   "source": [
    "brug.calc_touw_kracht()"
   ]
  },
  {
   "cell_type": "code",
   "execution_count": 6,
   "metadata": {},
   "outputs": [
    {
     "data": {
      "text/plain": [
       "(-347.0669230769231,\n",
       " -414.7592307692308,\n",
       " (172.0992307692308, 195.51937642442616, 233.46097732159154),\n",
       " -49.91006637168141,\n",
       " -596.445796460177,\n",
       " (247.4878318584071, 199.80686897217214, 153.11611052222017))"
      ]
     },
     "execution_count": 6,
     "metadata": {},
     "output_type": "execute_result"
    }
   ],
   "source": [
    "brug.calc_kant()"
   ]
  },
  {
   "cell_type": "markdown",
   "metadata": {},
   "source": [
    "### Wegdek"
   ]
  },
  {
   "cell_type": "code",
   "execution_count": 11,
   "metadata": {},
   "outputs": [
    {
     "data": {
      "image/png": "[encoded data removed]",
      "text/plain": [
       "<Figure size 432x288 with 3 Axes>"
      ]
     },
     "metadata": {
      "needs_background": "light"
     },
     "output_type": "display_data"
    }
   ],
   "source": [
    "x = np.arange(0, 2, 0.001)\n",
    "N, D, M = list(zip(*[brug.calc_intern_wegdek(xi) for xi in x]))\n",
    "\n",
    "plt.figure()\n",
    "ax1 = plt.subplot(3,1,1)\n",
    "ax1.plot(x, N)\n",
    "ax1.set_ylabel(\"N\")\n",
    "ax2 = plt.subplot(3,1,2, sharex=ax1)\n",
    "ax2.plot(x, D)\n",
    "ax2.set_ylabel(\"D\")\n",
    "ax2.plot(x, [0]*len(x))\n",
    "ax3 = plt.subplot(3,1,3, sharex=ax1)\n",
    "ax3.plot(x, [-m for m in M])\n",
    "ax3.set_ylabel(\"M\")\n",
    "plt.savefig(\"figs/wegdek-ramses\")"
   ]
  },
  {
   "cell_type": "markdown",
   "metadata": {},
   "source": [
    "### Piloon 1"
   ]
  },
  {
   "cell_type": "code",
   "execution_count": null,
   "metadata": {},
   "outputs": [],
   "source": [
    "x = np.arange(0, brug.h1, 0.001)\n",
    "N, D, M = list(zip(*[brug.calc_intern_balk(xi, True) for xi in x]))\n",
    "\n",
    "plt.figure()\n",
    "ax1 = plt.subplot(3,1,1)\n",
    "ax1.plot(x, N)\n",
    "ax1.plot(x, [0]*len(x))\n",
    "ax1.set_ylabel(\"N\")\n",
    "ax2 = plt.subplot(3,1,2)\n",
    "ax2.plot(x, D)\n",
    "ax2.set_ylabel(\"D\")\n",
    "ax3 = plt.subplot(3,1,3)\n",
    "ax3.plot(x, M)\n",
    "ax3.set_ylabel(\"M\")"
   ]
  },
  {
   "cell_type": "markdown",
   "metadata": {},
   "source": [
    "### Piloon 2"
   ]
  },
  {
   "cell_type": "code",
   "execution_count": null,
   "metadata": {},
   "outputs": [],
   "source": [
    "x = np.arange(0, brug.h2, 0.001)\n",
    "N, D, M = list(zip(*[brug.calc_intern_balk(xi, False) for xi in x]))\n",
    "\n",
    "plt.figure()\n",
    "ax1 = plt.subplot(3,1,1)\n",
    "ax1.plot(x, N)\n",
    "ax1.plot(x, [0]*len(x))\n",
    "ax1.set_ylabel(\"N\")\n",
    "ax2 = plt.subplot(3,1,2)\n",
    "ax2.plot(x, D)\n",
    "ax2.set_ylabel(\"D\")\n",
    "ax3 = plt.subplot(3,1,3)\n",
    "ax3.plot(x, M)\n",
    "ax3.set_ylabel(\"M\")"
   ]
  }
 ],
 "metadata": {
  "kernelspec": {
   "display_name": "Python 3",
   "language": "python",
   "name": "python3"
  },
  "language_info": {
   "codemirror_mode": {
    "name": "ipython",
    "version": 3
   },
   "file_extension": ".py",
   "mimetype": "text/x-python",
   "name": "python",
   "nbconvert_exporter": "python",
   "pygments_lexer": "ipython3",
   "version": "3.9.2"
  }
 },
 "nbformat": 4,
 "nbformat_minor": 5
}
